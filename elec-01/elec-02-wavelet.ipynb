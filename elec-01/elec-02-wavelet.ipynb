{
 "cells": [
  {
   "attachments": {},
   "cell_type": "markdown",
   "metadata": {},
   "source": [
    "# `elec-02`: Time-frequency analysis\n",
    "\n",
    "This lab introduces time-frequency (i.e. wavelet) analysis of EEG data using MNE. We'll start by\n",
    "loading the epoched data from the previous notebook."
   ]
  },
  {
   "cell_type": "code",
   "execution_count": null,
   "metadata": {},
   "outputs": [],
   "source": [
    "import numpy as np\n",
    "import matplotlib.pyplot as plt\n",
    "import seaborn as sns\n"
   ]
  },
  {
   "attachments": {},
   "cell_type": "markdown",
   "metadata": {},
   "source": [
    "Today's demonstration will introduce time-frequency analysis of EEG data using MNE. We will start by\n",
    "loading the epoched data from last session."
   ]
  },
  {
   "cell_type": "code",
   "execution_count": null,
   "metadata": {},
   "outputs": [],
   "source": [
    "from mne import read_epochs\n",
    "\n",
    "# Load epoched data\n",
    "f = \"../elec-01/sub-01_task-audvis-epo.fif\"\n",
    "epochs = read_epochs(f, preload=True, verbose=False)\n"
   ]
  },
  {
   "attachments": {},
   "cell_type": "markdown",
   "metadata": {},
   "source": [
    "### Frequency analysis\n",
    "\n",
    "As a rough first-pass, we can look at the frequency composition, collapsing across time, over the\n",
    "scalp topography. We use the the `plot_psd_topomap` method of the MNE's `Epochs` class to plot the\n",
    "power spectral density across epochs."
   ]
  },
  {
   "cell_type": "code",
   "execution_count": null,
   "metadata": {},
   "outputs": [],
   "source": [
    "# Define frequency bands (alpha and beta)\n",
    "bands = [(8, 12, \"alpha\"), (12, 30, \"beta\")]\n",
    "\n",
    "# Extract epochs\n",
    "LV = epochs[\"left visual\"].copy()\n",
    "RV = epochs[\"right visual\"].copy()\n",
    "\n",
    "# Iteratively plot\n",
    "print(\"left visual stimuli\")\n",
    "fig, axes = plt.subplots(1, 2, figsize=(8, 4))\n",
    "fig = LV.compute_psd().plot_topomap(bands, axes=axes)\n",
    "\n",
    "print(\"right visual stimuli\")\n",
    "fig, axes = plt.subplots(1, 2, figsize=(8, 4))\n",
    "fig = RV.compute_psd().plot_topomap(bands, axes=axes)\n"
   ]
  },
  {
   "attachments": {},
   "cell_type": "markdown",
   "metadata": {},
   "source": [
    "### Time-frequency analysis\n",
    "\n",
    "In this section, we will apply wavelet decomposition to the visual evoked potentials from previous\n",
    "notebook. Specifically, we will use Morlet wavelet decomposition to study the time-frequency\n",
    "composition of the evoked potentials.\n",
    "\n",
    "First we need to define the parameters of the Morlet wavelet decomposition. This includes:\n",
    "\n",
    "- `freqs`: frequencies of interest\n",
    "- `n_cycles`: the number of cycles used for estimation, either globally or for each frequency"
   ]
  },
  {
   "cell_type": "code",
   "execution_count": null,
   "metadata": {},
   "outputs": [],
   "source": [
    "# Define parameters for wavelet with logarithmic sampling\n",
    "freqs = np.logspace(np.log(8), np.log(30), num=10, base=np.e)\n",
    "n_cycles = 3\n"
   ]
  },
  {
   "cell_type": "markdown",
   "metadata": {},
   "source": [
    "Next we will perform the decomposition for each condition separately."
   ]
  },
  {
   "cell_type": "code",
   "execution_count": null,
   "metadata": {},
   "outputs": [],
   "source": [
    "from mne.time_frequency import tfr_morlet\n",
    "\n",
    "# Extract epochs\n",
    "LV = epochs[\"left visual\"].copy()\n",
    "RV = epochs[\"right visual\"].copy()\n",
    "\n",
    "# Perform time-frequency decomposition\n",
    "LV_power = tfr_morlet(\n",
    "    LV, freqs, n_cycles, average=True, return_itc=False, verbose=False\n",
    ")\n",
    "RV_power = tfr_morlet(\n",
    "    RV, freqs, n_cycles, average=True, return_itc=False, verbose=False\n",
    ")\n"
   ]
  },
  {
   "attachments": {},
   "cell_type": "markdown",
   "metadata": {},
   "source": [
    "It is important to perform baseline correction for time-frequency data. There are many methods for\n",
    "performing baseline correction. Here we will use the log-ratio technique:\n",
    "\n",
    "$$\\text{decibel power} = 10 \\times \\log_{10}{\\frac{\\text{power}}{\\text{baseline}}}$$"
   ]
  },
  {
   "cell_type": "code",
   "execution_count": null,
   "metadata": {},
   "outputs": [],
   "source": [
    "# Define baseline parameters\n",
    "baseline = (-0.1, -0.050)\n",
    "method = \"logratio\"\n",
    "\n",
    "# Apply baseline correction\n",
    "LV_power = LV_power.apply_baseline(baseline, \"logratio\")\n",
    "RV_power = RV_power.apply_baseline(baseline, \"logratio\")\n",
    "\n",
    "# Convert to decibels\n",
    "LV_power_arr = 10 * LV_power.data\n",
    "RV_power_arr = 10 * RV_power.data\n"
   ]
  },
  {
   "cell_type": "markdown",
   "metadata": {},
   "source": [
    "Similar to ERP analysis, we can plot out the difference between conditions across the entire scalp."
   ]
  },
  {
   "cell_type": "code",
   "execution_count": null,
   "metadata": {},
   "outputs": [],
   "source": [
    "# Compute difference between conditions\n",
    "averageTFR = RV_power - LV_power\n",
    "\n",
    "# Plot topographic difference\n",
    "fig = averageTFR.plot_topo(baseline=None, fig_facecolor=\"w\", font_color=\"k\", border=\"k\")\n"
   ]
  },
  {
   "cell_type": "markdown",
   "metadata": {},
   "source": [
    "Now let's visualize the difference between the right and left visual stimulus presentation for a left posterior channel, EEG 057."
   ]
  },
  {
   "cell_type": "code",
   "execution_count": null,
   "metadata": {},
   "outputs": [],
   "source": [
    "# Compute difference for EEG 057\n",
    "diff = (\n",
    "    RV_power_arr[epochs.ch_names.index(\"EEG 057\")]\n",
    "    - LV_power_arr[epochs.ch_names.index(\"EEG 057\")]\n",
    ")\n",
    "\n",
    "# Plot time-frequency\n",
    "fig, ax = plt.subplots(1, 1, figsize=(16, 4))\n",
    "sns.heatmap(diff, center=0, vmin=-5, vmax=5, yticklabels=freqs.round(1), ax=ax)\n",
    "ax.set(\n",
    "    xticks=np.arange(epochs.times.size)[::10],\n",
    "    xticklabels=epochs.times[::10].round(2),\n",
    "    xlabel=\"time (s)\",\n",
    "    ylabel=\"frequency (Hz)\",\n",
    "    title=\"right - left stimulus (left visual cortex)\",\n",
    ")\n",
    "ax.invert_yaxis()\n"
   ]
  },
  {
   "cell_type": "markdown",
   "metadata": {},
   "source": [
    "### Phase-locked vs. induced power\n",
    "To compute nonphase-locked power (also sometimes called \"induced\" activity), we must subtract the event-related potential (ERP) from single trials."
   ]
  },
  {
   "cell_type": "code",
   "execution_count": null,
   "metadata": {},
   "outputs": [],
   "source": [
    "from mne.time_frequency import tfr_morlet\n",
    "\n",
    "# Extract epochs\n",
    "LV = epochs[\"left visual\"].copy()\n",
    "RV = epochs[\"right visual\"].copy()\n",
    "\n",
    "# Subtract evoked potentials\n",
    "LV = LV.subtract_evoked()\n",
    "RV = RV.subtract_evoked()\n",
    "\n",
    "# Perform time-frequency decomposition\n",
    "LV_power = tfr_morlet(\n",
    "    LV, freqs, n_cycles, average=True, return_itc=False, verbose=False\n",
    ")\n",
    "RV_power = tfr_morlet(\n",
    "    RV, freqs, n_cycles, average=True, return_itc=False, verbose=False\n",
    ")\n"
   ]
  },
  {
   "cell_type": "code",
   "execution_count": null,
   "metadata": {},
   "outputs": [],
   "source": [
    "# Define parameters for baseline correction\n",
    "baseline = (-0.1, -0.050)\n",
    "method = \"logratio\"\n",
    "\n",
    "# Apply baseline correction\n",
    "LV_power = LV_power.apply_baseline(baseline, \"logratio\")\n",
    "RV_power = RV_power.apply_baseline(baseline, \"logratio\")\n",
    "\n",
    "# Convert to decibels\n",
    "LV_power_arr = 10 * LV_power.data\n",
    "RV_power_arr = 10 * RV_power.data\n"
   ]
  },
  {
   "cell_type": "markdown",
   "metadata": {},
   "source": [
    "Now let's visualize the difference between the right and left visual stimulus presentation for a left posterior channel, EEG 057."
   ]
  },
  {
   "cell_type": "code",
   "execution_count": null,
   "metadata": {},
   "outputs": [],
   "source": [
    "# Compute difference between left and right\n",
    "diff = (\n",
    "    RV_power_arr[epochs.ch_names.index(\"EEG 057\")]\n",
    "    - LV_power_arr[epochs.ch_names.index(\"EEG 057\")]\n",
    ")\n",
    "\n",
    "# Plotting induced power\n",
    "fig, ax = plt.subplots(1, 1, figsize=(16, 4))\n",
    "sns.heatmap(diff, center=0, vmin=-5, vmax=5, yticklabels=freqs.round(1), ax=ax)\n",
    "ax.set(\n",
    "    xticks=np.arange(epochs.times.size)[::10],\n",
    "    xticklabels=epochs.times[::10].round(2),\n",
    "    xlabel=\"time (s)\",\n",
    "    ylabel=\"frequency (Hz)\",\n",
    "    title=\"right - left stimulus (left visual cortex)\",\n",
    ")\n",
    "ax.invert_yaxis()\n"
   ]
  },
  {
   "cell_type": "markdown",
   "metadata": {},
   "source": [
    "### Permutation Testing\n",
    "\n",
    "Finally, we demonstrate 2D time-frequency permutation testing. For a permutation test, we compute our statistics at the trial level. As such, we re-decompose our data at the trial level."
   ]
  },
  {
   "cell_type": "code",
   "execution_count": null,
   "metadata": {},
   "outputs": [],
   "source": [
    "from mne.time_frequency import tfr_morlet\n",
    "\n",
    "# Extract epochs\n",
    "LV = epochs[\"left visual\"].copy()\n",
    "RV = epochs[\"right visual\"].copy()\n",
    "\n",
    "# Subtract evoked potential\n",
    "LV = LV.subtract_evoked()\n",
    "RV = RV.subtract_evoked()\n",
    "\n",
    "# Perform time-frequency decomposition\n",
    "LV_power = tfr_morlet(\n",
    "    LV, freqs, n_cycles, average=False, return_itc=False, verbose=False\n",
    ")\n",
    "RV_power = tfr_morlet(\n",
    "    RV, freqs, n_cycles, average=False, return_itc=False, verbose=False\n",
    ")\n",
    "\n",
    "# Apply baseline correction\n",
    "LV_power = LV_power.apply_baseline((-0.1, -0.050), \"logratio\")\n",
    "RV_power = RV_power.apply_baseline((-0.1, -0.050), \"logratio\")\n",
    "\n",
    "# Convert to decibels\n",
    "LV_power_arr = 10 * LV_power.data\n",
    "RV_power_arr = 10 * RV_power.data\n"
   ]
  },
  {
   "cell_type": "markdown",
   "metadata": {},
   "source": [
    "Now let's perform permutation testing. We above, we restrict our analysis to our channel of interest. We then pass both arrays, as a list, to `mne.stats.permutation_cluster_test`."
   ]
  },
  {
   "cell_type": "code",
   "execution_count": null,
   "metadata": {},
   "outputs": [],
   "source": [
    "from mne.stats import permutation_cluster_test\n",
    "\n",
    "# Limit to channel of interest (EEG 057)\n",
    "ix = epochs.ch_names.index(\"EEG 057\")\n",
    "LV_power_057 = LV_power_arr[ix]\n",
    "RV_power_057 = RV_power_arr[ix]\n",
    "\n",
    "# Perform permutation testing\n",
    "F_obs, clusters, cluster_pv, H0 = permutation_cluster_test(\n",
    "    [RV_power_057, LV_power_057], n_permutations=10001, out_type=\"mask\"\n",
    ")\n"
   ]
  },
  {
   "cell_type": "markdown",
   "metadata": {},
   "source": [
    "First let's visualize the clusters the permutation test detected."
   ]
  },
  {
   "cell_type": "code",
   "execution_count": null,
   "metadata": {},
   "outputs": [],
   "source": [
    "# Compute difference\n",
    "diff = RV_power_057.mean(axis=0) - LV_power_057.mean(axis=0)\n",
    "diff *= np.sum(clusters, axis=0)\n",
    "\n",
    "# Plotting clusters\n",
    "fig, ax = plt.subplots(1, 1, figsize=(16, 4))\n",
    "sns.heatmap(diff, center=0, vmin=-5, vmax=5, yticklabels=freqs.round(1), ax=ax)\n",
    "ax.set(\n",
    "    xticks=np.arange(epochs.times.size)[::10],\n",
    "    xticklabels=epochs.times[::10].round(2),\n",
    "    xlabel=\"Time (s)\",\n",
    "    ylabel=\"Freq (Hz)\",\n",
    "    title=\"right - left stimulus (left visual cortex)\",\n",
    ")\n",
    "ax.invert_yaxis()\n"
   ]
  },
  {
   "cell_type": "markdown",
   "metadata": {},
   "source": [
    "Now let's threshold to only the significant clusters."
   ]
  },
  {
   "cell_type": "code",
   "execution_count": null,
   "metadata": {},
   "outputs": [],
   "source": [
    "# Compute difference\n",
    "diff = RV_power_057.mean(axis=0) - LV_power_057.mean(axis=0)\n",
    "diff *= np.sum(\n",
    "    [\n",
    "        cluster if p < 0.05 else np.zeros_like(cluster)\n",
    "        for p, cluster in zip(cluster_pv, clusters)\n",
    "    ],\n",
    "    axis=0,\n",
    ")\n",
    "\n",
    "## Plotting.\n",
    "fig, ax = plt.subplots(1, 1, figsize=(16, 4))\n",
    "sns.heatmap(diff, center=0, vmin=-5, vmax=5, yticklabels=freqs.round(1), ax=ax)\n",
    "ax.set(\n",
    "    xticks=np.arange(epochs.times.size)[::10],\n",
    "    xticklabels=epochs.times[::10].round(2),\n",
    "    xlabel=\"Time (s)\",\n",
    "    ylabel=\"Freq (Hz)\",\n",
    "    title=\"right - left stimulus (left visual cortex)\",\n",
    ")\n",
    "ax.invert_yaxis()\n"
   ]
  }
 ],
 "metadata": {
  "kernelspec": {
   "display_name": "Python 3 (ipykernel)",
   "language": "python",
   "name": "python3"
  },
  "language_info": {
   "codemirror_mode": {
    "name": "ipython",
    "version": 3
   },
   "file_extension": ".py",
   "mimetype": "text/x-python",
   "name": "python",
   "nbconvert_exporter": "python",
   "pygments_lexer": "ipython3",
   "version": "3.10.9"
  }
 },
 "nbformat": 4,
 "nbformat_minor": 4
}
